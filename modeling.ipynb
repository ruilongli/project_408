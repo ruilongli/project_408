{
 "cells": [
  {
   "cell_type": "code",
   "execution_count": 2,
   "metadata": {},
   "outputs": [
    {
     "name": "stdout",
     "output_type": "stream",
     "text": [
      "Collecting package metadata (current_repodata.json): done\n",
      "Solving environment: done\n",
      "\n",
      "# All requested packages already installed.\n",
      "\n"
     ]
    }
   ],
   "source": [
    "!conda install --yes pandas\n"
   ]
  },
  {
   "cell_type": "markdown",
   "metadata": {},
   "source": [
    "* methods wanna inlude:\n",
    "    * use slected param by literature\n",
    "    * use LASSO \n",
    "    * use PCA\n",
    "    \n",
    "* for method we use\n",
    "    * naive bayes\n",
    "    * logistic\n",
    "    * random forest\n",
    "    * Neural network\n",
    "    * support vector machine\n",
    "    * hirechical clustering"
   ]
  },
  {
   "cell_type": "code",
   "execution_count": 2,
   "metadata": {},
   "outputs": [],
   "source": [
    "import pandas as pd \n",
    "import numpy as np\n",
    "from os.path import join\n",
    "import statsmodels.api as sm\n",
    "import seaborn as sns\n",
    "import warnings\n",
    "import matplotlib.pyplot as plt\n",
    "\n",
    "\n",
    "warnings.filterwarnings(\"ignore\")\n",
    "RAW_DATA_PATH = '/Users/tomsmac/Library/CloudStorage/OneDrive-TheChineseUniversityofHongKong/lrl_study/cuhk_dmdp/summer quarter/ds/project'  # raw data save path"
   ]
  },
  {
   "cell_type": "code",
   "execution_count": 4,
   "metadata": {},
   "outputs": [
    {
     "name": "stdout",
     "output_type": "stream",
     "text": [
      "<class 'pandas.core.frame.DataFrame'>\n",
      "Int64Index: 2042 entries, 23 to 137006\n",
      "Data columns (total 6 columns):\n",
      " #   Column    Non-Null Count  Dtype  \n",
      "---  ------    --------------  -----  \n",
      " 0   gvkey     2042 non-null   int64  \n",
      " 1   splticrm  2042 non-null   object \n",
      " 2   datadate  2042 non-null   object \n",
      " 3   cik       2042 non-null   float64\n",
      " 4   conm      2041 non-null   object \n",
      " 5   year      2042 non-null   int64  \n",
      "dtypes: float64(1), int64(2), object(3)\n",
      "memory usage: 111.7+ KB\n"
     ]
    },
    {
     "data": {
      "text/html": [
       "<div>\n",
       "<style scoped>\n",
       "    .dataframe tbody tr th:only-of-type {\n",
       "        vertical-align: middle;\n",
       "    }\n",
       "\n",
       "    .dataframe tbody tr th {\n",
       "        vertical-align: top;\n",
       "    }\n",
       "\n",
       "    .dataframe thead th {\n",
       "        text-align: right;\n",
       "    }\n",
       "</style>\n",
       "<table border=\"1\" class=\"dataframe\">\n",
       "  <thead>\n",
       "    <tr style=\"text-align: right;\">\n",
       "      <th></th>\n",
       "      <th>gvkey</th>\n",
       "      <th>splticrm</th>\n",
       "      <th>datadate</th>\n",
       "      <th>cik</th>\n",
       "      <th>conm</th>\n",
       "      <th>year</th>\n",
       "    </tr>\n",
       "  </thead>\n",
       "  <tbody>\n",
       "    <tr>\n",
       "      <th>23</th>\n",
       "      <td>1004</td>\n",
       "      <td>BB</td>\n",
       "      <td>2010-12-31</td>\n",
       "      <td>1750.0</td>\n",
       "      <td>AAR CORP</td>\n",
       "      <td>2010</td>\n",
       "    </tr>\n",
       "    <tr>\n",
       "      <th>26</th>\n",
       "      <td>1010</td>\n",
       "      <td>B+</td>\n",
       "      <td>2010-03-31</td>\n",
       "      <td>910627.0</td>\n",
       "      <td>ACF INDUSTRIES INC</td>\n",
       "      <td>2010</td>\n",
       "    </tr>\n",
       "    <tr>\n",
       "      <th>74</th>\n",
       "      <td>1045</td>\n",
       "      <td>B-</td>\n",
       "      <td>2010-12-31</td>\n",
       "      <td>6201.0</td>\n",
       "      <td>AMERICAN AIRLINES GROUP INC</td>\n",
       "      <td>2010</td>\n",
       "    </tr>\n",
       "    <tr>\n",
       "      <th>77</th>\n",
       "      <td>1048</td>\n",
       "      <td>A-</td>\n",
       "      <td>2010-03-31</td>\n",
       "      <td>65695.0</td>\n",
       "      <td>ANR PIPELINE CO</td>\n",
       "      <td>2010</td>\n",
       "    </tr>\n",
       "    <tr>\n",
       "      <th>125</th>\n",
       "      <td>1075</td>\n",
       "      <td>BBB-</td>\n",
       "      <td>2010-12-31</td>\n",
       "      <td>764622.0</td>\n",
       "      <td>PINNACLE WEST CAPITAL CORP</td>\n",
       "      <td>2010</td>\n",
       "    </tr>\n",
       "  </tbody>\n",
       "</table>\n",
       "</div>"
      ],
      "text/plain": [
       "     gvkey splticrm    datadate       cik                         conm  year\n",
       "23    1004       BB  2010-12-31    1750.0                     AAR CORP  2010\n",
       "26    1010       B+  2010-03-31  910627.0           ACF INDUSTRIES INC  2010\n",
       "74    1045       B-  2010-12-31    6201.0  AMERICAN AIRLINES GROUP INC  2010\n",
       "77    1048       A-  2010-03-31   65695.0              ANR PIPELINE CO  2010\n",
       "125   1075     BBB-  2010-12-31  764622.0   PINNACLE WEST CAPITAL CORP  2010"
      ]
     },
     "execution_count": 4,
     "metadata": {},
     "output_type": "execute_result"
    }
   ],
   "source": [
    "# import s&p rating data\n",
    "df_SP_rating = pd.read_csv(join(RAW_DATA_PATH, 'rating_2010_2011_sp1.csv'))\n",
    "# eliminate forecasts with missing announcement dates, gvkey and ranking\n",
    "\n",
    "df_SP_rating = df_SP_rating.dropna(subset=['gvkey','splticrm','datadate','cik'], how='any')\n",
    "\n",
    "df_SP_rating['year']=pd.to_datetime(df_SP_rating['datadate']).dt.year\n",
    "df_SP_rating=df_SP_rating.drop_duplicates(['gvkey', 'year'], keep='last')#here we keep the last record that year as the credit rating\n",
    "df_SP_rating=df_SP_rating.drop(['cusip','tic','spsdrm'],axis=1)\n",
    "df_SP_rating.info()\n",
    "df_SP_rating.head()"
   ]
  },
  {
   "cell_type": "code",
   "execution_count": 6,
   "metadata": {},
   "outputs": [
    {
     "name": "stdout",
     "output_type": "stream",
     "text": [
      "<class 'pandas.core.frame.DataFrame'>\n",
      "Int64Index: 8036 entries, 11 to 51274\n",
      "Data columns (total 76 columns):\n",
      " #   Column           Non-Null Count  Dtype  \n",
      "---  ------           --------------  -----  \n",
      " 0   gvkey            8036 non-null   int64  \n",
      " 1   adate            8014 non-null   object \n",
      " 2   qdate            8036 non-null   object \n",
      " 3   public_date      8036 non-null   object \n",
      " 4   CAPEI            7873 non-null   float64\n",
      " 5   bm               7774 non-null   float64\n",
      " 6   evm              7993 non-null   float64\n",
      " 7   pe_op_basic      7709 non-null   float64\n",
      " 8   pe_op_dil        7713 non-null   float64\n",
      " 9   pe_exi           7730 non-null   float64\n",
      " 10  pe_inc           7730 non-null   float64\n",
      " 11  ps               7901 non-null   float64\n",
      " 12  pcf              8006 non-null   float64\n",
      " 13  dpr              5639 non-null   float64\n",
      " 14  npm              7900 non-null   float64\n",
      " 15  opmbd            7900 non-null   float64\n",
      " 16  opmad            7900 non-null   float64\n",
      " 17  gpm              7890 non-null   float64\n",
      " 18  ptpm             7900 non-null   float64\n",
      " 19  cfm              7880 non-null   float64\n",
      " 20  roa              8008 non-null   float64\n",
      " 21  roe              7726 non-null   float64\n",
      " 22  roce             7971 non-null   float64\n",
      " 23  efftax           4920 non-null   float64\n",
      " 24  aftret_eq        8008 non-null   float64\n",
      " 25  aftret_invcapx   7872 non-null   float64\n",
      " 26  aftret_equity    8008 non-null   float64\n",
      " 27  pretret_noa      6475 non-null   float64\n",
      " 28  pretret_earnat   6475 non-null   float64\n",
      " 29  GProf            8013 non-null   float64\n",
      " 30  equity_invcap    7957 non-null   float64\n",
      " 31  debt_invcap      7929 non-null   float64\n",
      " 32  totdebt_invcap   7917 non-null   float64\n",
      " 33  capital_ratio    7989 non-null   float64\n",
      " 34  int_debt         5272 non-null   float64\n",
      " 35  int_totdebt      5650 non-null   float64\n",
      " 36  cash_lt          8015 non-null   float64\n",
      " 37  invt_act         6428 non-null   float64\n",
      " 38  rect_act         6469 non-null   float64\n",
      " 39  debt_at          7977 non-null   float64\n",
      " 40  debt_ebitda      7955 non-null   float64\n",
      " 41  short_debt       6751 non-null   float64\n",
      " 42  curr_debt        6482 non-null   float64\n",
      " 43  lt_debt          7989 non-null   float64\n",
      " 44  profit_lct       6482 non-null   float64\n",
      " 45  ocf_lct          6479 non-null   float64\n",
      " 46  cash_debt        7947 non-null   float64\n",
      " 47  fcf_ocf          6766 non-null   float64\n",
      " 48  lt_ppent         7925 non-null   float64\n",
      " 49  dltt_be          7746 non-null   float64\n",
      " 50  debt_assets      8015 non-null   float64\n",
      " 51  debt_capital     7959 non-null   float64\n",
      " 52  de_ratio         8015 non-null   float64\n",
      " 53  intcov           5898 non-null   float64\n",
      " 54  intcov_ratio     5896 non-null   float64\n",
      " 55  cash_ratio       6484 non-null   float64\n",
      " 56  quick_ratio      6482 non-null   float64\n",
      " 57  curr_ratio       6484 non-null   float64\n",
      " 58  cash_conversion  6013 non-null   float64\n",
      " 59  inv_turn         6114 non-null   float64\n",
      " 60  at_turn          7898 non-null   float64\n",
      " 61  rect_turn        7808 non-null   float64\n",
      " 62  pay_turn         7812 non-null   float64\n",
      " 63  sale_invcap      7846 non-null   float64\n",
      " 64  sale_equity      7648 non-null   float64\n",
      " 65  sale_nwc         5715 non-null   float64\n",
      " 66  rd_sale          8017 non-null   float64\n",
      " 67  adv_sale         7881 non-null   float64\n",
      " 68  staff_sale       7881 non-null   float64\n",
      " 69  accrual          8008 non-null   float64\n",
      " 70  ptb              7774 non-null   float64\n",
      " 71  PEG_trailing     3290 non-null   float64\n",
      " 72  divyield         2630 non-null   object \n",
      " 73  PEG_1yrforward   5413 non-null   float64\n",
      " 74  PEG_ltgforward   4016 non-null   float64\n",
      " 75  year             8036 non-null   int64  \n",
      "dtypes: float64(70), int64(2), object(4)\n",
      "memory usage: 4.7+ MB\n"
     ]
    }
   ],
   "source": [
    "#import financial ratio data\n",
    "# import s&p rating data\n",
    "df_financial_ratio = pd.read_csv(join(RAW_DATA_PATH, 'financial ratio.csv'))\n",
    "# eliminate forecasts with missing announcement dates, gvkey and ranking\n",
    "df_financial_ratio = df_financial_ratio.dropna(subset=['gvkey','public_date'], how='any')\n",
    "#creat a variable called year for later merging data\n",
    "df_financial_ratio['year']=pd.to_datetime(df_financial_ratio['public_date']).dt.year\n",
    "df_financial_ratio=df_financial_ratio.drop_duplicates(['gvkey', 'year'], keep='last') \n",
    "df_financial_ratio=df_financial_ratio.drop(['cusip','TICKER','permno'],axis=1)#drop some non-used variable\n",
    "df_financial_ratio.info()"
   ]
  },
  {
   "cell_type": "code",
   "execution_count": 7,
   "metadata": {},
   "outputs": [
    {
     "name": "stdout",
     "output_type": "stream",
     "text": [
      "<class 'pandas.core.frame.DataFrame'>\n",
      "Int64Index: 1106 entries, 0 to 1105\n",
      "Data columns (total 80 columns):\n",
      " #   Column           Non-Null Count  Dtype  \n",
      "---  ------           --------------  -----  \n",
      " 0   gvkey            1106 non-null   int64  \n",
      " 1   adate            1106 non-null   object \n",
      " 2   qdate            1106 non-null   object \n",
      " 3   public_date      1106 non-null   object \n",
      " 4   CAPEI            1102 non-null   float64\n",
      " 5   bm               1048 non-null   float64\n",
      " 6   evm              1101 non-null   float64\n",
      " 7   pe_op_basic      1073 non-null   float64\n",
      " 8   pe_op_dil        1073 non-null   float64\n",
      " 9   pe_exi           1071 non-null   float64\n",
      " 10  pe_inc           1072 non-null   float64\n",
      " 11  ps               1106 non-null   float64\n",
      " 12  pcf              1105 non-null   float64\n",
      " 13  dpr              934 non-null    float64\n",
      " 14  npm              1106 non-null   float64\n",
      " 15  opmbd            1106 non-null   float64\n",
      " 16  opmad            1106 non-null   float64\n",
      " 17  gpm              1106 non-null   float64\n",
      " 18  ptpm             1106 non-null   float64\n",
      " 19  cfm              1103 non-null   float64\n",
      " 20  roa              1105 non-null   float64\n",
      " 21  roe              1042 non-null   float64\n",
      " 22  roce             1103 non-null   float64\n",
      " 23  efftax           830 non-null    float64\n",
      " 24  aftret_eq        1105 non-null   float64\n",
      " 25  aftret_invcapx   1097 non-null   float64\n",
      " 26  aftret_equity    1105 non-null   float64\n",
      " 27  pretret_noa      941 non-null    float64\n",
      " 28  pretret_earnat   941 non-null    float64\n",
      " 29  GProf            1106 non-null   float64\n",
      " 30  equity_invcap    1104 non-null   float64\n",
      " 31  debt_invcap      1104 non-null   float64\n",
      " 32  totdebt_invcap   1102 non-null   float64\n",
      " 33  capital_ratio    1106 non-null   float64\n",
      " 34  int_debt         1033 non-null   float64\n",
      " 35  int_totdebt      1034 non-null   float64\n",
      " 36  cash_lt          1106 non-null   float64\n",
      " 37  invt_act         933 non-null    float64\n",
      " 38  rect_act         942 non-null    float64\n",
      " 39  debt_at          1104 non-null   float64\n",
      " 40  debt_ebitda      1099 non-null   float64\n",
      " 41  short_debt       1089 non-null   float64\n",
      " 42  curr_debt        943 non-null    float64\n",
      " 43  lt_debt          1106 non-null   float64\n",
      " 44  profit_lct       943 non-null    float64\n",
      " 45  ocf_lct          942 non-null    float64\n",
      " 46  cash_debt        1100 non-null   float64\n",
      " 47  fcf_ocf          1073 non-null   float64\n",
      " 48  lt_ppent         1086 non-null   float64\n",
      " 49  dltt_be          1049 non-null   float64\n",
      " 50  debt_assets      1106 non-null   float64\n",
      " 51  debt_capital     1085 non-null   float64\n",
      " 52  de_ratio         1106 non-null   float64\n",
      " 53  intcov           1041 non-null   float64\n",
      " 54  intcov_ratio     1041 non-null   float64\n",
      " 55  cash_ratio       943 non-null    float64\n",
      " 56  quick_ratio      943 non-null    float64\n",
      " 57  curr_ratio       943 non-null    float64\n",
      " 58  cash_conversion  900 non-null    float64\n",
      " 59  inv_turn         888 non-null    float64\n",
      " 60  at_turn          1105 non-null   float64\n",
      " 61  rect_turn        1094 non-null   float64\n",
      " 62  pay_turn         1061 non-null   float64\n",
      " 63  sale_invcap      1104 non-null   float64\n",
      " 64  sale_equity      1044 non-null   float64\n",
      " 65  sale_nwc         806 non-null    float64\n",
      " 66  rd_sale          1106 non-null   float64\n",
      " 67  adv_sale         1106 non-null   float64\n",
      " 68  staff_sale       1106 non-null   float64\n",
      " 69  accrual          1105 non-null   float64\n",
      " 70  ptb              1048 non-null   float64\n",
      " 71  PEG_trailing     520 non-null    float64\n",
      " 72  divyield         579 non-null    object \n",
      " 73  PEG_1yrforward   964 non-null    float64\n",
      " 74  PEG_ltgforward   845 non-null    float64\n",
      " 75  year             1106 non-null   int64  \n",
      " 76  splticrm         1106 non-null   object \n",
      " 77  datadate         1106 non-null   object \n",
      " 78  cik              1106 non-null   object \n",
      " 79  conm             1106 non-null   object \n",
      "dtypes: float64(70), int64(2), object(8)\n",
      "memory usage: 699.9+ KB\n"
     ]
    }
   ],
   "source": [
    "#creat veariable for corresponding year and merge with respect to year and compnay gvkey\n",
    "#check duplicate\n",
    "df_merged=df_financial_ratio.merge(df_SP_rating, on =['gvkey','year'])\n",
    "df_merged['cik']=df_merged['cik'].astype(int).astype(str)\n",
    "df_merged.info()"
   ]
  },
  {
   "cell_type": "code",
   "execution_count": 8,
   "metadata": {},
   "outputs": [],
   "source": [
    "df_merged[\"divyield\"] = pd.to_numeric(df_merged[\"divyield\"].str.replace('%', ''), errors='coerce') / 100\n",
    "missing_values = df_merged.isnull().sum()\n",
    "columns_to_drop = missing_values[missing_values > 100].index#drop variables with over 100 missing value\n",
    "df_merged = df_merged.drop(columns=columns_to_drop).dropna().reset_index()#drop varaivles with any missing value\n",
    "\n"
   ]
  },
  {
   "cell_type": "code",
   "execution_count": 9,
   "metadata": {},
   "outputs": [
    {
     "data": {
      "text/plain": [
       "['CAPEI',\n",
       " 'bm',\n",
       " 'evm',\n",
       " 'pe_op_basic',\n",
       " 'pe_op_dil',\n",
       " 'pe_exi',\n",
       " 'pe_inc',\n",
       " 'ps',\n",
       " 'pcf',\n",
       " 'npm',\n",
       " 'opmbd',\n",
       " 'opmad',\n",
       " 'gpm',\n",
       " 'ptpm',\n",
       " 'cfm',\n",
       " 'roa',\n",
       " 'roe',\n",
       " 'roce',\n",
       " 'aftret_eq',\n",
       " 'aftret_invcapx',\n",
       " 'aftret_equity',\n",
       " 'GProf',\n",
       " 'equity_invcap',\n",
       " 'debt_invcap',\n",
       " 'totdebt_invcap',\n",
       " 'capital_ratio',\n",
       " 'int_debt',\n",
       " 'int_totdebt',\n",
       " 'cash_lt',\n",
       " 'debt_at',\n",
       " 'debt_ebitda',\n",
       " 'short_debt',\n",
       " 'lt_debt',\n",
       " 'cash_debt',\n",
       " 'fcf_ocf',\n",
       " 'lt_ppent',\n",
       " 'dltt_be',\n",
       " 'debt_assets',\n",
       " 'debt_capital',\n",
       " 'de_ratio',\n",
       " 'intcov',\n",
       " 'intcov_ratio',\n",
       " 'at_turn',\n",
       " 'rect_turn',\n",
       " 'pay_turn',\n",
       " 'sale_invcap',\n",
       " 'sale_equity',\n",
       " 'rd_sale',\n",
       " 'adv_sale',\n",
       " 'staff_sale',\n",
       " 'accrual',\n",
       " 'ptb']"
      ]
     },
     "execution_count": 9,
     "metadata": {},
     "output_type": "execute_result"
    }
   ],
   "source": [
    "# Get all names of the financial ratios into a list\n",
    "credit = df_merged\n",
    "ratio_name = credit.select_dtypes(include='float').columns.tolist()\n",
    "ratio_name"
   ]
  },
  {
   "cell_type": "code",
   "execution_count": 10,
   "metadata": {},
   "outputs": [],
   "source": [
    "# Define a function to implement the examination of outliers\n",
    "def winsorize_data(data):\n",
    "    # Calculate the 1% and 99% percentiles\n",
    "    p1 = np.percentile(data, 1)\n",
    "    p99 = np.percentile(data, 99)\n",
    "\n",
    "    # Winsorize the data\n",
    "    winsorized_data = np.where(data < p1, p1, data)\n",
    "    winsorized_data = np.where(data > p99, p99, winsorized_data)\n",
    "\n",
    "    return winsorized_data\n",
    "\n",
    "\n",
    "\n",
    "for column in ratio_name:\n",
    "    column_data = credit[column]\n",
    "    winsorized_data = winsorize_data(column_data)\n",
    "    credit[column] = winsorized_data"
   ]
  },
  {
   "cell_type": "markdown",
   "metadata": {},
   "source": [
    "# encode the dependent variables"
   ]
  },
  {
   "cell_type": "code",
   "execution_count": 11,
   "metadata": {},
   "outputs": [],
   "source": [
    "def is_junk_bond(rating):\n",
    "    # Assign numerical values to credit ratings\n",
    "    rating_values = {\n",
    "        'D': 0,\n",
    "        'C': 1,\n",
    "        'CC': 2,\n",
    "        'CCC': 3,\n",
    "        'B-': 4,\n",
    "        'B': 5,\n",
    "        'B+': 6,\n",
    "        'BB-': 7,\n",
    "        'BB': 8,\n",
    "        'BB+': 9,\n",
    "        'BBB-': 10,\n",
    "        'BBB': 11,\n",
    "        'BBB+': 12,\n",
    "        'A-': 13,\n",
    "        'A': 14,\n",
    "        'A+': 15,\n",
    "        'AA-': 16,\n",
    "        'AA': 17,\n",
    "        'AA+': 18,\n",
    "        'AAA': 19\n",
    "    }\n",
    "\n",
    "    # Check if the rating is a junk bond\n",
    "    if rating_values.get(rating, -1) >= 9:\n",
    "        return False  # Not a junk bond\n",
    "    else:\n",
    "        return True  # Junk bond\n"
   ]
  },
  {
   "cell_type": "code",
   "execution_count": 13,
   "metadata": {},
   "outputs": [],
   "source": [
    "credit['splticrm']=credit['splticrm'].apply(is_junk_bond)"
   ]
  },
  {
   "cell_type": "code",
   "execution_count": 14,
   "metadata": {},
   "outputs": [
    {
     "name": "stdout",
     "output_type": "stream",
     "text": [
      "Best Alpha: 0.002115509037143856\n",
      "accuracy Score: 0.6\n"
     ]
    }
   ],
   "source": [
    "from sklearn.linear_model import LassoCV\n",
    "from sklearn.model_selection import train_test_split\n",
    "from sklearn.preprocessing import StandardScaler\n",
    "from sklearn.model_selection import train_test_split\n",
    "from sklearn.ensemble import RandomForestClassifier\n",
    "from sklearn.preprocessing import OrdinalEncoder\n",
    "from sklearn.model_selection import cross_val_score\n",
    "from sklearn.model_selection import cross_validate\n",
    "from sklearn.metrics import accuracy_score, precision_score, recall_score, f1_score,confusion_matrix, classification_report\n",
    "from sklearn.model_selection import RandomizedSearchCV\n",
    "# Split the data into training and testing sets\n",
    "X_train, X_test, y_train, y_test = train_test_split(credit[ratio_name], credit[\"splticrm\"], test_size=0.2, random_state=42)\n",
    "\n",
    "# Standardize the features\n",
    "scaler = StandardScaler()\n",
    "X_train = scaler.fit_transform(X_train)\n",
    "X_test = scaler.transform(X_test)\n",
    "\n",
    "# Create a LassoCV object and fit the model\n",
    "lasso_cv = LassoCV(cv=5)  # we can adjust the number of cross-validation folds with the cv parameter\n",
    "lasso_cv.fit(X_train, y_train)\n",
    "\n",
    "# Get the best alpha value\n",
    "best_alpha = lasso_cv.alpha_\n",
    "print(\"Best Alpha:\", best_alpha)\n",
    "\n",
    "# Predict on the test set\n",
    "y_pred = lasso_cv.predict(X_test)\n",
    "\n",
    "# Evaluate the model\n",
    "score = accuracy_score(np.array(y_test).astype(int),np.array(y_pred).astype(int))\n",
    "print(\"accuracy Score:\", score)"
   ]
  },
  {
   "cell_type": "markdown",
   "metadata": {},
   "source": [
    "# random forest"
   ]
  },
  {
   "cell_type": "code",
   "execution_count": 15,
   "metadata": {},
   "outputs": [
    {
     "name": "stdout",
     "output_type": "stream",
     "text": [
      "{'n_estimators': [200, 288, 377, 466, 555, 644, 733, 822, 911, 1000], 'max_features': ['auto', 'sqrt'], 'max_depth': [10, 20, 30, 40, 50, 60, 70, 80, 90, 100], 'min_samples_split': [2, 5, 10]}\n"
     ]
    }
   ],
   "source": [
    "# Specify the hyperparameter range \n",
    "\n",
    "# number of trees \n",
    "n_estimator = [int(x) for x in np.linspace(start =200, stop=1000,num=10)]\n",
    "# number of feature at each split\n",
    "max_features = ['auto','sqrt']\n",
    "# max depth \n",
    "max_depth = [int(x) for x in np.linspace(start =10, stop=100,num=10)]\n",
    "# min number of sample at each split \n",
    "min_sam_split = [2,5,10]\n",
    "\n",
    "\n",
    "# Create a random grid \n",
    "rnd_grid= {'n_estimators':n_estimator,\n",
    "          'max_features':max_features,\n",
    "          'max_depth' :max_depth,\n",
    "          'min_samples_split' :min_sam_split}\n",
    "\n",
    "print(rnd_grid)"
   ]
  },
  {
   "cell_type": "code",
   "execution_count": 16,
   "metadata": {},
   "outputs": [
    {
     "name": "stdout",
     "output_type": "stream",
     "text": [
      "Fitting 3 folds for each of 10 candidates, totalling 30 fits\n"
     ]
    },
    {
     "name": "stderr",
     "output_type": "stream",
     "text": [
      "/Users/tomsmac/anaconda3/lib/python3.11/site-packages/sklearn/ensemble/_forest.py:424: FutureWarning: `max_features='auto'` has been deprecated in 1.1 and will be removed in 1.3. To keep the past behaviour, explicitly set `max_features='sqrt'` or remove this parameter as it is also the default value for RandomForestClassifiers and ExtraTreesClassifiers.\n",
      "  warn(\n",
      "/Users/tomsmac/anaconda3/lib/python3.11/site-packages/sklearn/ensemble/_forest.py:424: FutureWarning: `max_features='auto'` has been deprecated in 1.1 and will be removed in 1.3. To keep the past behaviour, explicitly set `max_features='sqrt'` or remove this parameter as it is also the default value for RandomForestClassifiers and ExtraTreesClassifiers.\n",
      "  warn(\n",
      "/Users/tomsmac/anaconda3/lib/python3.11/site-packages/sklearn/ensemble/_forest.py:424: FutureWarning: `max_features='auto'` has been deprecated in 1.1 and will be removed in 1.3. To keep the past behaviour, explicitly set `max_features='sqrt'` or remove this parameter as it is also the default value for RandomForestClassifiers and ExtraTreesClassifiers.\n",
      "  warn(\n",
      "/Users/tomsmac/anaconda3/lib/python3.11/site-packages/sklearn/ensemble/_forest.py:424: FutureWarning: `max_features='auto'` has been deprecated in 1.1 and will be removed in 1.3. To keep the past behaviour, explicitly set `max_features='sqrt'` or remove this parameter as it is also the default value for RandomForestClassifiers and ExtraTreesClassifiers.\n",
      "  warn(\n",
      "/Users/tomsmac/anaconda3/lib/python3.11/site-packages/sklearn/ensemble/_forest.py:424: FutureWarning: `max_features='auto'` has been deprecated in 1.1 and will be removed in 1.3. To keep the past behaviour, explicitly set `max_features='sqrt'` or remove this parameter as it is also the default value for RandomForestClassifiers and ExtraTreesClassifiers.\n",
      "  warn(\n"
     ]
    },
    {
     "name": "stdout",
     "output_type": "stream",
     "text": [
      "[CV] END max_depth=30, max_features=auto, min_samples_split=5, n_estimators=288; total time=   0.5s\n",
      "[CV] END max_depth=30, max_features=auto, min_samples_split=5, n_estimators=288; total time=   0.5s\n"
     ]
    },
    {
     "name": "stderr",
     "output_type": "stream",
     "text": [
      "/Users/tomsmac/anaconda3/lib/python3.11/site-packages/sklearn/ensemble/_forest.py:424: FutureWarning: `max_features='auto'` has been deprecated in 1.1 and will be removed in 1.3. To keep the past behaviour, explicitly set `max_features='sqrt'` or remove this parameter as it is also the default value for RandomForestClassifiers and ExtraTreesClassifiers.\n",
      "  warn(\n",
      "/Users/tomsmac/anaconda3/lib/python3.11/site-packages/sklearn/ensemble/_forest.py:424: FutureWarning: `max_features='auto'` has been deprecated in 1.1 and will be removed in 1.3. To keep the past behaviour, explicitly set `max_features='sqrt'` or remove this parameter as it is also the default value for RandomForestClassifiers and ExtraTreesClassifiers.\n",
      "  warn(\n"
     ]
    },
    {
     "name": "stdout",
     "output_type": "stream",
     "text": [
      "[CV] END max_depth=30, max_features=auto, min_samples_split=5, n_estimators=288; total time=   0.5s\n",
      "[CV] END max_depth=80, max_features=sqrt, min_samples_split=2, n_estimators=733; total time=   1.2s\n",
      "[CV] END max_depth=80, max_features=sqrt, min_samples_split=2, n_estimators=733; total time=   1.1s\n",
      "[CV] END max_depth=70, max_features=auto, min_samples_split=2, n_estimators=733; total time=   1.2s\n",
      "[CV] END max_depth=70, max_features=auto, min_samples_split=2, n_estimators=733; total time=   1.2s\n",
      "[CV] END max_depth=70, max_features=auto, min_samples_split=2, n_estimators=733; total time=   1.2s\n"
     ]
    },
    {
     "name": "stderr",
     "output_type": "stream",
     "text": [
      "/Users/tomsmac/anaconda3/lib/python3.11/site-packages/sklearn/ensemble/_forest.py:424: FutureWarning: `max_features='auto'` has been deprecated in 1.1 and will be removed in 1.3. To keep the past behaviour, explicitly set `max_features='sqrt'` or remove this parameter as it is also the default value for RandomForestClassifiers and ExtraTreesClassifiers.\n",
      "  warn(\n",
      "/Users/tomsmac/anaconda3/lib/python3.11/site-packages/sklearn/ensemble/_forest.py:424: FutureWarning: `max_features='auto'` has been deprecated in 1.1 and will be removed in 1.3. To keep the past behaviour, explicitly set `max_features='sqrt'` or remove this parameter as it is also the default value for RandomForestClassifiers and ExtraTreesClassifiers.\n",
      "  warn(\n"
     ]
    },
    {
     "name": "stdout",
     "output_type": "stream",
     "text": [
      "[CV] END max_depth=80, max_features=sqrt, min_samples_split=2, n_estimators=733; total time=   1.3s\n",
      "[CV] END max_depth=90, max_features=sqrt, min_samples_split=2, n_estimators=466; total time=   0.9s\n",
      "[CV] END max_depth=90, max_features=sqrt, min_samples_split=2, n_estimators=466; total time=   0.9s\n",
      "[CV] END max_depth=80, max_features=auto, min_samples_split=10, n_estimators=911; total time=   1.6s\n"
     ]
    },
    {
     "name": "stderr",
     "output_type": "stream",
     "text": [
      "/Users/tomsmac/anaconda3/lib/python3.11/site-packages/sklearn/ensemble/_forest.py:424: FutureWarning: `max_features='auto'` has been deprecated in 1.1 and will be removed in 1.3. To keep the past behaviour, explicitly set `max_features='sqrt'` or remove this parameter as it is also the default value for RandomForestClassifiers and ExtraTreesClassifiers.\n",
      "  warn(\n",
      "/Users/tomsmac/anaconda3/lib/python3.11/site-packages/sklearn/ensemble/_forest.py:424: FutureWarning: `max_features='auto'` has been deprecated in 1.1 and will be removed in 1.3. To keep the past behaviour, explicitly set `max_features='sqrt'` or remove this parameter as it is also the default value for RandomForestClassifiers and ExtraTreesClassifiers.\n",
      "  warn(\n"
     ]
    },
    {
     "name": "stdout",
     "output_type": "stream",
     "text": [
      "[CV] END max_depth=60, max_features=sqrt, min_samples_split=2, n_estimators=822; total time=   1.5s\n",
      "[CV] END max_depth=80, max_features=auto, min_samples_split=10, n_estimators=911; total time=   1.6s\n",
      "[CV] END max_depth=80, max_features=auto, min_samples_split=10, n_estimators=911; total time=   1.6s\n",
      "[CV] END max_depth=60, max_features=sqrt, min_samples_split=2, n_estimators=822; total time=   1.6s\n"
     ]
    },
    {
     "name": "stderr",
     "output_type": "stream",
     "text": [
      "/Users/tomsmac/anaconda3/lib/python3.11/site-packages/sklearn/ensemble/_forest.py:424: FutureWarning: `max_features='auto'` has been deprecated in 1.1 and will be removed in 1.3. To keep the past behaviour, explicitly set `max_features='sqrt'` or remove this parameter as it is also the default value for RandomForestClassifiers and ExtraTreesClassifiers.\n",
      "  warn(\n",
      "/Users/tomsmac/anaconda3/lib/python3.11/site-packages/sklearn/ensemble/_forest.py:424: FutureWarning: `max_features='auto'` has been deprecated in 1.1 and will be removed in 1.3. To keep the past behaviour, explicitly set `max_features='sqrt'` or remove this parameter as it is also the default value for RandomForestClassifiers and ExtraTreesClassifiers.\n",
      "  warn(\n",
      "/Users/tomsmac/anaconda3/lib/python3.11/site-packages/sklearn/ensemble/_forest.py:424: FutureWarning: `max_features='auto'` has been deprecated in 1.1 and will be removed in 1.3. To keep the past behaviour, explicitly set `max_features='sqrt'` or remove this parameter as it is also the default value for RandomForestClassifiers and ExtraTreesClassifiers.\n",
      "  warn(\n",
      "/Users/tomsmac/anaconda3/lib/python3.11/site-packages/sklearn/ensemble/_forest.py:424: FutureWarning: `max_features='auto'` has been deprecated in 1.1 and will be removed in 1.3. To keep the past behaviour, explicitly set `max_features='sqrt'` or remove this parameter as it is also the default value for RandomForestClassifiers and ExtraTreesClassifiers.\n",
      "  warn(\n"
     ]
    },
    {
     "name": "stdout",
     "output_type": "stream",
     "text": [
      "[CV] END max_depth=60, max_features=sqrt, min_samples_split=2, n_estimators=822; total time=   1.7s\n",
      "[CV] END max_depth=90, max_features=sqrt, min_samples_split=2, n_estimators=466; total time=   0.8s\n",
      "[CV] END max_depth=10, max_features=auto, min_samples_split=10, n_estimators=288; total time=   0.4s\n",
      "[CV] END max_depth=10, max_features=auto, min_samples_split=10, n_estimators=288; total time=   0.5s\n",
      "[CV] END max_depth=10, max_features=auto, min_samples_split=10, n_estimators=288; total time=   0.5s\n",
      "[CV] END max_depth=10, max_features=auto, min_samples_split=10, n_estimators=822; total time=   1.3s\n",
      "[CV] END max_depth=10, max_features=auto, min_samples_split=10, n_estimators=822; total time=   1.6s\n",
      "[CV] END max_depth=100, max_features=sqrt, min_samples_split=5, n_estimators=466; total time=   0.7s\n",
      "[CV] END max_depth=100, max_features=sqrt, min_samples_split=5, n_estimators=466; total time=   0.8s\n",
      "[CV] END max_depth=10, max_features=auto, min_samples_split=10, n_estimators=822; total time=   1.4s\n",
      "[CV] END max_depth=90, max_features=sqrt, min_samples_split=5, n_estimators=644; total time=   0.9s\n",
      "[CV] END max_depth=90, max_features=sqrt, min_samples_split=5, n_estimators=644; total time=   1.2s\n",
      "[CV] END max_depth=90, max_features=sqrt, min_samples_split=5, n_estimators=644; total time=   1.2s\n",
      "[CV] END max_depth=100, max_features=sqrt, min_samples_split=5, n_estimators=466; total time=   0.7s\n"
     ]
    },
    {
     "data": {
      "text/html": [
       "<style>#sk-container-id-1 {color: black;background-color: white;}#sk-container-id-1 pre{padding: 0;}#sk-container-id-1 div.sk-toggleable {background-color: white;}#sk-container-id-1 label.sk-toggleable__label {cursor: pointer;display: block;width: 100%;margin-bottom: 0;padding: 0.3em;box-sizing: border-box;text-align: center;}#sk-container-id-1 label.sk-toggleable__label-arrow:before {content: \"▸\";float: left;margin-right: 0.25em;color: #696969;}#sk-container-id-1 label.sk-toggleable__label-arrow:hover:before {color: black;}#sk-container-id-1 div.sk-estimator:hover label.sk-toggleable__label-arrow:before {color: black;}#sk-container-id-1 div.sk-toggleable__content {max-height: 0;max-width: 0;overflow: hidden;text-align: left;background-color: #f0f8ff;}#sk-container-id-1 div.sk-toggleable__content pre {margin: 0.2em;color: black;border-radius: 0.25em;background-color: #f0f8ff;}#sk-container-id-1 input.sk-toggleable__control:checked~div.sk-toggleable__content {max-height: 200px;max-width: 100%;overflow: auto;}#sk-container-id-1 input.sk-toggleable__control:checked~label.sk-toggleable__label-arrow:before {content: \"▾\";}#sk-container-id-1 div.sk-estimator input.sk-toggleable__control:checked~label.sk-toggleable__label {background-color: #d4ebff;}#sk-container-id-1 div.sk-label input.sk-toggleable__control:checked~label.sk-toggleable__label {background-color: #d4ebff;}#sk-container-id-1 input.sk-hidden--visually {border: 0;clip: rect(1px 1px 1px 1px);clip: rect(1px, 1px, 1px, 1px);height: 1px;margin: -1px;overflow: hidden;padding: 0;position: absolute;width: 1px;}#sk-container-id-1 div.sk-estimator {font-family: monospace;background-color: #f0f8ff;border: 1px dotted black;border-radius: 0.25em;box-sizing: border-box;margin-bottom: 0.5em;}#sk-container-id-1 div.sk-estimator:hover {background-color: #d4ebff;}#sk-container-id-1 div.sk-parallel-item::after {content: \"\";width: 100%;border-bottom: 1px solid gray;flex-grow: 1;}#sk-container-id-1 div.sk-label:hover label.sk-toggleable__label {background-color: #d4ebff;}#sk-container-id-1 div.sk-serial::before {content: \"\";position: absolute;border-left: 1px solid gray;box-sizing: border-box;top: 0;bottom: 0;left: 50%;z-index: 0;}#sk-container-id-1 div.sk-serial {display: flex;flex-direction: column;align-items: center;background-color: white;padding-right: 0.2em;padding-left: 0.2em;position: relative;}#sk-container-id-1 div.sk-item {position: relative;z-index: 1;}#sk-container-id-1 div.sk-parallel {display: flex;align-items: stretch;justify-content: center;background-color: white;position: relative;}#sk-container-id-1 div.sk-item::before, #sk-container-id-1 div.sk-parallel-item::before {content: \"\";position: absolute;border-left: 1px solid gray;box-sizing: border-box;top: 0;bottom: 0;left: 50%;z-index: -1;}#sk-container-id-1 div.sk-parallel-item {display: flex;flex-direction: column;z-index: 1;position: relative;background-color: white;}#sk-container-id-1 div.sk-parallel-item:first-child::after {align-self: flex-end;width: 50%;}#sk-container-id-1 div.sk-parallel-item:last-child::after {align-self: flex-start;width: 50%;}#sk-container-id-1 div.sk-parallel-item:only-child::after {width: 0;}#sk-container-id-1 div.sk-dashed-wrapped {border: 1px dashed gray;margin: 0 0.4em 0.5em 0.4em;box-sizing: border-box;padding-bottom: 0.4em;background-color: white;}#sk-container-id-1 div.sk-label label {font-family: monospace;font-weight: bold;display: inline-block;line-height: 1.2em;}#sk-container-id-1 div.sk-label-container {text-align: center;}#sk-container-id-1 div.sk-container {/* jupyter's `normalize.less` sets `[hidden] { display: none; }` but bootstrap.min.css set `[hidden] { display: none !important; }` so we also need the `!important` here to be able to override the default hidden behavior on the sphinx rendered scikit-learn.org. See: https://github.com/scikit-learn/scikit-learn/issues/21755 */display: inline-block !important;position: relative;}#sk-container-id-1 div.sk-text-repr-fallback {display: none;}</style><div id=\"sk-container-id-1\" class=\"sk-top-container\"><div class=\"sk-text-repr-fallback\"><pre>RandomizedSearchCV(cv=3, estimator=RandomForestClassifier(), n_jobs=-1,\n",
       "                   param_distributions={&#x27;max_depth&#x27;: [10, 20, 30, 40, 50, 60,\n",
       "                                                      70, 80, 90, 100],\n",
       "                                        &#x27;max_features&#x27;: [&#x27;auto&#x27;, &#x27;sqrt&#x27;],\n",
       "                                        &#x27;min_samples_split&#x27;: [2, 5, 10],\n",
       "                                        &#x27;n_estimators&#x27;: [200, 288, 377, 466,\n",
       "                                                         555, 644, 733, 822,\n",
       "                                                         911, 1000]},\n",
       "                   random_state=33, return_train_score=True, verbose=2)</pre><b>In a Jupyter environment, please rerun this cell to show the HTML representation or trust the notebook. <br />On GitHub, the HTML representation is unable to render, please try loading this page with nbviewer.org.</b></div><div class=\"sk-container\" hidden><div class=\"sk-item sk-dashed-wrapped\"><div class=\"sk-label-container\"><div class=\"sk-label sk-toggleable\"><input class=\"sk-toggleable__control sk-hidden--visually\" id=\"sk-estimator-id-1\" type=\"checkbox\" ><label for=\"sk-estimator-id-1\" class=\"sk-toggleable__label sk-toggleable__label-arrow\">RandomizedSearchCV</label><div class=\"sk-toggleable__content\"><pre>RandomizedSearchCV(cv=3, estimator=RandomForestClassifier(), n_jobs=-1,\n",
       "                   param_distributions={&#x27;max_depth&#x27;: [10, 20, 30, 40, 50, 60,\n",
       "                                                      70, 80, 90, 100],\n",
       "                                        &#x27;max_features&#x27;: [&#x27;auto&#x27;, &#x27;sqrt&#x27;],\n",
       "                                        &#x27;min_samples_split&#x27;: [2, 5, 10],\n",
       "                                        &#x27;n_estimators&#x27;: [200, 288, 377, 466,\n",
       "                                                         555, 644, 733, 822,\n",
       "                                                         911, 1000]},\n",
       "                   random_state=33, return_train_score=True, verbose=2)</pre></div></div></div><div class=\"sk-parallel\"><div class=\"sk-parallel-item\"><div class=\"sk-item\"><div class=\"sk-label-container\"><div class=\"sk-label sk-toggleable\"><input class=\"sk-toggleable__control sk-hidden--visually\" id=\"sk-estimator-id-2\" type=\"checkbox\" ><label for=\"sk-estimator-id-2\" class=\"sk-toggleable__label sk-toggleable__label-arrow\">estimator: RandomForestClassifier</label><div class=\"sk-toggleable__content\"><pre>RandomForestClassifier()</pre></div></div></div><div class=\"sk-serial\"><div class=\"sk-item\"><div class=\"sk-estimator sk-toggleable\"><input class=\"sk-toggleable__control sk-hidden--visually\" id=\"sk-estimator-id-3\" type=\"checkbox\" ><label for=\"sk-estimator-id-3\" class=\"sk-toggleable__label sk-toggleable__label-arrow\">RandomForestClassifier</label><div class=\"sk-toggleable__content\"><pre>RandomForestClassifier()</pre></div></div></div></div></div></div></div></div></div></div>"
      ],
      "text/plain": [
       "RandomizedSearchCV(cv=3, estimator=RandomForestClassifier(), n_jobs=-1,\n",
       "                   param_distributions={'max_depth': [10, 20, 30, 40, 50, 60,\n",
       "                                                      70, 80, 90, 100],\n",
       "                                        'max_features': ['auto', 'sqrt'],\n",
       "                                        'min_samples_split': [2, 5, 10],\n",
       "                                        'n_estimators': [200, 288, 377, 466,\n",
       "                                                         555, 644, 733, 822,\n",
       "                                                         911, 1000]},\n",
       "                   random_state=33, return_train_score=True, verbose=2)"
      ]
     },
     "execution_count": 16,
     "metadata": {},
     "output_type": "execute_result"
    }
   ],
   "source": [
    "# use random search to select best hyperparameters \n",
    "# cv (Cross Validation) specifies number of times (3 fold in this case) that\n",
    "# each hyper parameter combination will be evaluated)\n",
    "\n",
    "rfn=RandomForestClassifier()\n",
    "\n",
    "rfn_random = RandomizedSearchCV(estimator=rfn,param_distributions =rnd_grid,\n",
    "                               n_iter = 10,cv=3,verbose=2,random_state=33,n_jobs=-1,return_train_score=True)\n",
    "\n",
    "rfn_random.fit(X_train, y_train)\n"
   ]
  },
  {
   "cell_type": "code",
   "execution_count": 17,
   "metadata": {},
   "outputs": [
    {
     "name": "stdout",
     "output_type": "stream",
     "text": [
      "Random best hyperparameter accuracy:  0.7823529411764706\n"
     ]
    }
   ],
   "source": [
    "best_random = rfn_random.best_estimator_\n",
    "best_random.fit(X_train,y_train)\n",
    "y_pred_rnd = best_random.predict(X_test)\n",
    "rnd_accuracy = accuracy_score(np.array(y_test), y_pred_rnd)\n",
    "\n",
    "print('Random best hyperparameter accuracy: ',rnd_accuracy)"
   ]
  },
  {
   "cell_type": "markdown",
   "metadata": {},
   "source": [
    "# naive baysian "
   ]
  },
  {
   "cell_type": "code",
   "execution_count": 18,
   "metadata": {},
   "outputs": [
    {
     "name": "stdout",
     "output_type": "stream",
     "text": [
      "Random best hyperparameter accuracy:  0.7058823529411765\n"
     ]
    }
   ],
   "source": [
    "from sklearn.naive_bayes import GaussianNB\n",
    "# Build a Gaussian Classifier\n",
    "model = GaussianNB()\n",
    "\n",
    "# Model training\n",
    "model.fit(X_train, y_train)\n",
    "\n",
    "# Predict Output\n",
    "y_pred = model.predict(X_test)\n",
    "rnd_accuracy = accuracy_score(np.array(y_test), y_pred)\n",
    "print('Random best hyperparameter accuracy: ',rnd_accuracy)"
   ]
  },
  {
   "cell_type": "markdown",
   "metadata": {},
   "source": [
    "# SVM"
   ]
  },
  {
   "cell_type": "code",
   "execution_count": 19,
   "metadata": {},
   "outputs": [
    {
     "name": "stdout",
     "output_type": "stream",
     "text": [
      "Random best hyperparameter accuracy:  0.7764705882352941\n"
     ]
    }
   ],
   "source": [
    "from sklearn.model_selection import GridSearchCV\n",
    "from sklearn.svm import SVC\n",
    "\n",
    "# Create a grid \n",
    "h_params= {'kernel': ['linear','rbf'],\n",
    "          'C':[0.1,1,10]}\n",
    "svc= SVC()\n",
    "cv=GridSearchCV(svc,h_params,cv=5,return_train_score=True)\n",
    "svc_grid=cv.fit(X_train, y_train)\n",
    "\n",
    "svc_best = svc_grid.best_estimator_.fit(X_train,y_train)\n",
    "y_test_pred=svc_best.predict(X_test)\n",
    "rnd_accuracy = accuracy_score(np.array(y_test), y_test_pred)\n",
    "print('Random best hyperparameter accuracy: ',rnd_accuracy)"
   ]
  },
  {
   "cell_type": "markdown",
   "metadata": {},
   "source": [
    "# how about using LASSO first"
   ]
  },
  {
   "cell_type": "code",
   "execution_count": 32,
   "metadata": {},
   "outputs": [
    {
     "name": "stdout",
     "output_type": "stream",
     "text": [
      "[False False False False False False False  True False False False  True\n",
      " False False False False False False False False False  True False False\n",
      " False False  True  True False False  True False  True False False False\n",
      "  True  True False  True False False False False False False False False\n",
      " False False False False]\n"
     ]
    },
    {
     "data": {
      "text/plain": [
       "(170, 10)"
      ]
     },
     "execution_count": 32,
     "metadata": {},
     "output_type": "execute_result"
    }
   ],
   "source": [
    "from sklearn.linear_model import LogisticRegression\n",
    "from sklearn.feature_selection import SelectFromModel\n",
    "# Create the Logistic Regression model with L1 (Lasso) penalty\n",
    "logreg = LogisticRegression(penalty='l1', solver='liblinear', random_state=42)\n",
    "\n",
    "# Perform feature selection using Lasso\n",
    "lasso_feature_selection = SelectFromModel(logreg,max_features=10)\n",
    "\n",
    "# Fit the feature selection model on the training data\n",
    "lasso_feature_selection.fit(X_train, y_train)\n",
    "\n",
    "# Get the selected features\n",
    "selected_features = lasso_feature_selection.get_support()\n",
    "print(selected_features)\n",
    "\n",
    "# Filter the original features to keep only the selected ones\n",
    "X_train = X_train[:, selected_features]\n",
    "X_test = X_test[:, selected_features]\n",
    "\n",
    "X_test.shape"
   ]
  },
  {
   "cell_type": "code",
   "execution_count": null,
   "metadata": {},
   "outputs": [
    {
     "name": "stdout",
     "output_type": "stream",
     "text": [
      "Random best hyperparameter accuracy:  0.7941176470588235\n"
     ]
    }
   ],
   "source": [
    "logistic_model = LogisticRegression()\n",
    "logistic_model.fit(X_train, y_train)\n",
    "y_test_pred=logistic_model.predict(X_test)\n",
    "rnd_accuracy = accuracy_score(np.array(y_test), y_test_pred)\n",
    "print('Random best hyperparameter accuracy: ',rnd_accuracy)\n"
   ]
  },
  {
   "cell_type": "code",
   "execution_count": 33,
   "metadata": {},
   "outputs": [
    {
     "name": "stdout",
     "output_type": "stream",
     "text": [
      "Fitting 3 folds for each of 10 candidates, totalling 30 fits\n"
     ]
    },
    {
     "name": "stderr",
     "output_type": "stream",
     "text": [
      "/Users/tomsmac/anaconda3/lib/python3.11/site-packages/sklearn/ensemble/_forest.py:424: FutureWarning: `max_features='auto'` has been deprecated in 1.1 and will be removed in 1.3. To keep the past behaviour, explicitly set `max_features='sqrt'` or remove this parameter as it is also the default value for RandomForestClassifiers and ExtraTreesClassifiers.\n",
      "  warn(\n",
      "/Users/tomsmac/anaconda3/lib/python3.11/site-packages/sklearn/ensemble/_forest.py:424: FutureWarning: `max_features='auto'` has been deprecated in 1.1 and will be removed in 1.3. To keep the past behaviour, explicitly set `max_features='sqrt'` or remove this parameter as it is also the default value for RandomForestClassifiers and ExtraTreesClassifiers.\n",
      "  warn(\n",
      "/Users/tomsmac/anaconda3/lib/python3.11/site-packages/sklearn/ensemble/_forest.py:424: FutureWarning: `max_features='auto'` has been deprecated in 1.1 and will be removed in 1.3. To keep the past behaviour, explicitly set `max_features='sqrt'` or remove this parameter as it is also the default value for RandomForestClassifiers and ExtraTreesClassifiers.\n",
      "  warn(\n",
      "/Users/tomsmac/anaconda3/lib/python3.11/site-packages/sklearn/ensemble/_forest.py:424: FutureWarning: `max_features='auto'` has been deprecated in 1.1 and will be removed in 1.3. To keep the past behaviour, explicitly set `max_features='sqrt'` or remove this parameter as it is also the default value for RandomForestClassifiers and ExtraTreesClassifiers.\n",
      "  warn(\n",
      "/Users/tomsmac/anaconda3/lib/python3.11/site-packages/sklearn/ensemble/_forest.py:424: FutureWarning: `max_features='auto'` has been deprecated in 1.1 and will be removed in 1.3. To keep the past behaviour, explicitly set `max_features='sqrt'` or remove this parameter as it is also the default value for RandomForestClassifiers and ExtraTreesClassifiers.\n",
      "  warn(\n"
     ]
    },
    {
     "name": "stdout",
     "output_type": "stream",
     "text": [
      "[CV] END max_depth=30, max_features=auto, min_samples_split=5, n_estimators=288; total time=   0.3s\n",
      "[CV] END max_depth=30, max_features=auto, min_samples_split=5, n_estimators=288; total time=   0.3s\n"
     ]
    },
    {
     "name": "stderr",
     "output_type": "stream",
     "text": [
      "/Users/tomsmac/anaconda3/lib/python3.11/site-packages/sklearn/ensemble/_forest.py:424: FutureWarning: `max_features='auto'` has been deprecated in 1.1 and will be removed in 1.3. To keep the past behaviour, explicitly set `max_features='sqrt'` or remove this parameter as it is also the default value for RandomForestClassifiers and ExtraTreesClassifiers.\n",
      "  warn(\n",
      "/Users/tomsmac/anaconda3/lib/python3.11/site-packages/sklearn/ensemble/_forest.py:424: FutureWarning: `max_features='auto'` has been deprecated in 1.1 and will be removed in 1.3. To keep the past behaviour, explicitly set `max_features='sqrt'` or remove this parameter as it is also the default value for RandomForestClassifiers and ExtraTreesClassifiers.\n",
      "  warn(\n"
     ]
    },
    {
     "name": "stdout",
     "output_type": "stream",
     "text": [
      "[CV] END max_depth=30, max_features=auto, min_samples_split=5, n_estimators=288; total time=   0.5s\n",
      "[CV] END max_depth=80, max_features=sqrt, min_samples_split=2, n_estimators=733; total time=   0.8s\n",
      "[CV] END max_depth=70, max_features=auto, min_samples_split=2, n_estimators=733; total time=   0.8s\n",
      "[CV] END max_depth=80, max_features=sqrt, min_samples_split=2, n_estimators=733; total time=   0.8s\n",
      "[CV] END max_depth=70, max_features=auto, min_samples_split=2, n_estimators=733; total time=   0.9s\n",
      "[CV] END max_depth=70, max_features=auto, min_samples_split=2, n_estimators=733; total time=   0.9s\n",
      "[CV] END max_depth=80, max_features=sqrt, min_samples_split=2, n_estimators=733; total time=   0.9s\n"
     ]
    },
    {
     "name": "stderr",
     "output_type": "stream",
     "text": [
      "/Users/tomsmac/anaconda3/lib/python3.11/site-packages/sklearn/ensemble/_forest.py:424: FutureWarning: `max_features='auto'` has been deprecated in 1.1 and will be removed in 1.3. To keep the past behaviour, explicitly set `max_features='sqrt'` or remove this parameter as it is also the default value for RandomForestClassifiers and ExtraTreesClassifiers.\n",
      "  warn(\n",
      "/Users/tomsmac/anaconda3/lib/python3.11/site-packages/sklearn/ensemble/_forest.py:424: FutureWarning: `max_features='auto'` has been deprecated in 1.1 and will be removed in 1.3. To keep the past behaviour, explicitly set `max_features='sqrt'` or remove this parameter as it is also the default value for RandomForestClassifiers and ExtraTreesClassifiers.\n",
      "  warn(\n"
     ]
    },
    {
     "name": "stdout",
     "output_type": "stream",
     "text": [
      "[CV] END max_depth=90, max_features=sqrt, min_samples_split=2, n_estimators=466; total time=   0.5s\n",
      "[CV] END max_depth=80, max_features=auto, min_samples_split=10, n_estimators=911; total time=   1.0s\n",
      "[CV] END max_depth=90, max_features=sqrt, min_samples_split=2, n_estimators=466; total time=   0.5s\n"
     ]
    },
    {
     "name": "stderr",
     "output_type": "stream",
     "text": [
      "/Users/tomsmac/anaconda3/lib/python3.11/site-packages/sklearn/ensemble/_forest.py:424: FutureWarning: `max_features='auto'` has been deprecated in 1.1 and will be removed in 1.3. To keep the past behaviour, explicitly set `max_features='sqrt'` or remove this parameter as it is also the default value for RandomForestClassifiers and ExtraTreesClassifiers.\n",
      "  warn(\n",
      "/Users/tomsmac/anaconda3/lib/python3.11/site-packages/sklearn/ensemble/_forest.py:424: FutureWarning: `max_features='auto'` has been deprecated in 1.1 and will be removed in 1.3. To keep the past behaviour, explicitly set `max_features='sqrt'` or remove this parameter as it is also the default value for RandomForestClassifiers and ExtraTreesClassifiers.\n",
      "  warn(\n"
     ]
    },
    {
     "name": "stdout",
     "output_type": "stream",
     "text": [
      "[CV] END max_depth=60, max_features=sqrt, min_samples_split=2, n_estimators=822; total time=   0.8s\n",
      "[CV] END max_depth=60, max_features=sqrt, min_samples_split=2, n_estimators=822; total time=   0.9s\n",
      "[CV] END max_depth=90, max_features=sqrt, min_samples_split=2, n_estimators=466; total time=   0.4s\n",
      "[CV] END max_depth=60, max_features=sqrt, min_samples_split=2, n_estimators=822; total time=   0.9s\n",
      "[CV] END max_depth=80, max_features=auto, min_samples_split=10, n_estimators=911; total time=   1.0s\n",
      "[CV] END max_depth=80, max_features=auto, min_samples_split=10, n_estimators=911; total time=   1.0s\n"
     ]
    },
    {
     "name": "stderr",
     "output_type": "stream",
     "text": [
      "/Users/tomsmac/anaconda3/lib/python3.11/site-packages/sklearn/ensemble/_forest.py:424: FutureWarning: `max_features='auto'` has been deprecated in 1.1 and will be removed in 1.3. To keep the past behaviour, explicitly set `max_features='sqrt'` or remove this parameter as it is also the default value for RandomForestClassifiers and ExtraTreesClassifiers.\n",
      "  warn(\n",
      "/Users/tomsmac/anaconda3/lib/python3.11/site-packages/sklearn/ensemble/_forest.py:424: FutureWarning: `max_features='auto'` has been deprecated in 1.1 and will be removed in 1.3. To keep the past behaviour, explicitly set `max_features='sqrt'` or remove this parameter as it is also the default value for RandomForestClassifiers and ExtraTreesClassifiers.\n",
      "  warn(\n",
      "/Users/tomsmac/anaconda3/lib/python3.11/site-packages/sklearn/ensemble/_forest.py:424: FutureWarning: `max_features='auto'` has been deprecated in 1.1 and will be removed in 1.3. To keep the past behaviour, explicitly set `max_features='sqrt'` or remove this parameter as it is also the default value for RandomForestClassifiers and ExtraTreesClassifiers.\n",
      "  warn(\n",
      "/Users/tomsmac/anaconda3/lib/python3.11/site-packages/sklearn/ensemble/_forest.py:424: FutureWarning: `max_features='auto'` has been deprecated in 1.1 and will be removed in 1.3. To keep the past behaviour, explicitly set `max_features='sqrt'` or remove this parameter as it is also the default value for RandomForestClassifiers and ExtraTreesClassifiers.\n",
      "  warn(\n"
     ]
    },
    {
     "name": "stdout",
     "output_type": "stream",
     "text": [
      "[CV] END max_depth=10, max_features=auto, min_samples_split=10, n_estimators=288; total time=   0.3s\n",
      "[CV] END max_depth=10, max_features=auto, min_samples_split=10, n_estimators=288; total time=   0.3s\n",
      "[CV] END max_depth=10, max_features=auto, min_samples_split=10, n_estimators=288; total time=   0.3s\n",
      "[CV] END max_depth=10, max_features=auto, min_samples_split=10, n_estimators=822; total time=   0.9s\n",
      "[CV] END max_depth=10, max_features=auto, min_samples_split=10, n_estimators=822; total time=   1.1s\n",
      "[CV] END max_depth=10, max_features=auto, min_samples_split=10, n_estimators=822; total time=   0.8s\n",
      "[CV] END max_depth=90, max_features=sqrt, min_samples_split=5, n_estimators=644; total time=   0.7s\n",
      "[CV] END max_depth=90, max_features=sqrt, min_samples_split=5, n_estimators=644; total time=   0.7s\n",
      "[CV] END max_depth=100, max_features=sqrt, min_samples_split=5, n_estimators=466; total time=   0.5s\n",
      "[CV] END max_depth=100, max_features=sqrt, min_samples_split=5, n_estimators=466; total time=   0.5s\n",
      "[CV] END max_depth=90, max_features=sqrt, min_samples_split=5, n_estimators=644; total time=   0.6s\n",
      "[CV] END max_depth=100, max_features=sqrt, min_samples_split=5, n_estimators=466; total time=   0.4s\n"
     ]
    },
    {
     "data": {
      "text/html": [
       "<style>#sk-container-id-2 {color: black;background-color: white;}#sk-container-id-2 pre{padding: 0;}#sk-container-id-2 div.sk-toggleable {background-color: white;}#sk-container-id-2 label.sk-toggleable__label {cursor: pointer;display: block;width: 100%;margin-bottom: 0;padding: 0.3em;box-sizing: border-box;text-align: center;}#sk-container-id-2 label.sk-toggleable__label-arrow:before {content: \"▸\";float: left;margin-right: 0.25em;color: #696969;}#sk-container-id-2 label.sk-toggleable__label-arrow:hover:before {color: black;}#sk-container-id-2 div.sk-estimator:hover label.sk-toggleable__label-arrow:before {color: black;}#sk-container-id-2 div.sk-toggleable__content {max-height: 0;max-width: 0;overflow: hidden;text-align: left;background-color: #f0f8ff;}#sk-container-id-2 div.sk-toggleable__content pre {margin: 0.2em;color: black;border-radius: 0.25em;background-color: #f0f8ff;}#sk-container-id-2 input.sk-toggleable__control:checked~div.sk-toggleable__content {max-height: 200px;max-width: 100%;overflow: auto;}#sk-container-id-2 input.sk-toggleable__control:checked~label.sk-toggleable__label-arrow:before {content: \"▾\";}#sk-container-id-2 div.sk-estimator input.sk-toggleable__control:checked~label.sk-toggleable__label {background-color: #d4ebff;}#sk-container-id-2 div.sk-label input.sk-toggleable__control:checked~label.sk-toggleable__label {background-color: #d4ebff;}#sk-container-id-2 input.sk-hidden--visually {border: 0;clip: rect(1px 1px 1px 1px);clip: rect(1px, 1px, 1px, 1px);height: 1px;margin: -1px;overflow: hidden;padding: 0;position: absolute;width: 1px;}#sk-container-id-2 div.sk-estimator {font-family: monospace;background-color: #f0f8ff;border: 1px dotted black;border-radius: 0.25em;box-sizing: border-box;margin-bottom: 0.5em;}#sk-container-id-2 div.sk-estimator:hover {background-color: #d4ebff;}#sk-container-id-2 div.sk-parallel-item::after {content: \"\";width: 100%;border-bottom: 1px solid gray;flex-grow: 1;}#sk-container-id-2 div.sk-label:hover label.sk-toggleable__label {background-color: #d4ebff;}#sk-container-id-2 div.sk-serial::before {content: \"\";position: absolute;border-left: 1px solid gray;box-sizing: border-box;top: 0;bottom: 0;left: 50%;z-index: 0;}#sk-container-id-2 div.sk-serial {display: flex;flex-direction: column;align-items: center;background-color: white;padding-right: 0.2em;padding-left: 0.2em;position: relative;}#sk-container-id-2 div.sk-item {position: relative;z-index: 1;}#sk-container-id-2 div.sk-parallel {display: flex;align-items: stretch;justify-content: center;background-color: white;position: relative;}#sk-container-id-2 div.sk-item::before, #sk-container-id-2 div.sk-parallel-item::before {content: \"\";position: absolute;border-left: 1px solid gray;box-sizing: border-box;top: 0;bottom: 0;left: 50%;z-index: -1;}#sk-container-id-2 div.sk-parallel-item {display: flex;flex-direction: column;z-index: 1;position: relative;background-color: white;}#sk-container-id-2 div.sk-parallel-item:first-child::after {align-self: flex-end;width: 50%;}#sk-container-id-2 div.sk-parallel-item:last-child::after {align-self: flex-start;width: 50%;}#sk-container-id-2 div.sk-parallel-item:only-child::after {width: 0;}#sk-container-id-2 div.sk-dashed-wrapped {border: 1px dashed gray;margin: 0 0.4em 0.5em 0.4em;box-sizing: border-box;padding-bottom: 0.4em;background-color: white;}#sk-container-id-2 div.sk-label label {font-family: monospace;font-weight: bold;display: inline-block;line-height: 1.2em;}#sk-container-id-2 div.sk-label-container {text-align: center;}#sk-container-id-2 div.sk-container {/* jupyter's `normalize.less` sets `[hidden] { display: none; }` but bootstrap.min.css set `[hidden] { display: none !important; }` so we also need the `!important` here to be able to override the default hidden behavior on the sphinx rendered scikit-learn.org. See: https://github.com/scikit-learn/scikit-learn/issues/21755 */display: inline-block !important;position: relative;}#sk-container-id-2 div.sk-text-repr-fallback {display: none;}</style><div id=\"sk-container-id-2\" class=\"sk-top-container\"><div class=\"sk-text-repr-fallback\"><pre>RandomizedSearchCV(cv=3, estimator=RandomForestClassifier(), n_jobs=-1,\n",
       "                   param_distributions={&#x27;max_depth&#x27;: [10, 20, 30, 40, 50, 60,\n",
       "                                                      70, 80, 90, 100],\n",
       "                                        &#x27;max_features&#x27;: [&#x27;auto&#x27;, &#x27;sqrt&#x27;],\n",
       "                                        &#x27;min_samples_split&#x27;: [2, 5, 10],\n",
       "                                        &#x27;n_estimators&#x27;: [200, 288, 377, 466,\n",
       "                                                         555, 644, 733, 822,\n",
       "                                                         911, 1000]},\n",
       "                   random_state=33, return_train_score=True, verbose=2)</pre><b>In a Jupyter environment, please rerun this cell to show the HTML representation or trust the notebook. <br />On GitHub, the HTML representation is unable to render, please try loading this page with nbviewer.org.</b></div><div class=\"sk-container\" hidden><div class=\"sk-item sk-dashed-wrapped\"><div class=\"sk-label-container\"><div class=\"sk-label sk-toggleable\"><input class=\"sk-toggleable__control sk-hidden--visually\" id=\"sk-estimator-id-4\" type=\"checkbox\" ><label for=\"sk-estimator-id-4\" class=\"sk-toggleable__label sk-toggleable__label-arrow\">RandomizedSearchCV</label><div class=\"sk-toggleable__content\"><pre>RandomizedSearchCV(cv=3, estimator=RandomForestClassifier(), n_jobs=-1,\n",
       "                   param_distributions={&#x27;max_depth&#x27;: [10, 20, 30, 40, 50, 60,\n",
       "                                                      70, 80, 90, 100],\n",
       "                                        &#x27;max_features&#x27;: [&#x27;auto&#x27;, &#x27;sqrt&#x27;],\n",
       "                                        &#x27;min_samples_split&#x27;: [2, 5, 10],\n",
       "                                        &#x27;n_estimators&#x27;: [200, 288, 377, 466,\n",
       "                                                         555, 644, 733, 822,\n",
       "                                                         911, 1000]},\n",
       "                   random_state=33, return_train_score=True, verbose=2)</pre></div></div></div><div class=\"sk-parallel\"><div class=\"sk-parallel-item\"><div class=\"sk-item\"><div class=\"sk-label-container\"><div class=\"sk-label sk-toggleable\"><input class=\"sk-toggleable__control sk-hidden--visually\" id=\"sk-estimator-id-5\" type=\"checkbox\" ><label for=\"sk-estimator-id-5\" class=\"sk-toggleable__label sk-toggleable__label-arrow\">estimator: RandomForestClassifier</label><div class=\"sk-toggleable__content\"><pre>RandomForestClassifier()</pre></div></div></div><div class=\"sk-serial\"><div class=\"sk-item\"><div class=\"sk-estimator sk-toggleable\"><input class=\"sk-toggleable__control sk-hidden--visually\" id=\"sk-estimator-id-6\" type=\"checkbox\" ><label for=\"sk-estimator-id-6\" class=\"sk-toggleable__label sk-toggleable__label-arrow\">RandomForestClassifier</label><div class=\"sk-toggleable__content\"><pre>RandomForestClassifier()</pre></div></div></div></div></div></div></div></div></div></div>"
      ],
      "text/plain": [
       "RandomizedSearchCV(cv=3, estimator=RandomForestClassifier(), n_jobs=-1,\n",
       "                   param_distributions={'max_depth': [10, 20, 30, 40, 50, 60,\n",
       "                                                      70, 80, 90, 100],\n",
       "                                        'max_features': ['auto', 'sqrt'],\n",
       "                                        'min_samples_split': [2, 5, 10],\n",
       "                                        'n_estimators': [200, 288, 377, 466,\n",
       "                                                         555, 644, 733, 822,\n",
       "                                                         911, 1000]},\n",
       "                   random_state=33, return_train_score=True, verbose=2)"
      ]
     },
     "execution_count": 33,
     "metadata": {},
     "output_type": "execute_result"
    }
   ],
   "source": [
    "# use random search to select best hyperparameters \n",
    "# cv (Cross Validation) specifies number of times (3 fold in this case) that\n",
    "# each hyper parameter combination will be evaluated)\n",
    "\n",
    "rfn=RandomForestClassifier()\n",
    "\n",
    "rfn_random = RandomizedSearchCV(estimator=rfn,param_distributions =rnd_grid,\n",
    "                               n_iter = 10,cv=3,verbose=2,random_state=33,n_jobs=-1,return_train_score=True)\n",
    "\n",
    "rfn_random.fit(X_train, y_train)"
   ]
  },
  {
   "cell_type": "code",
   "execution_count": 34,
   "metadata": {},
   "outputs": [
    {
     "name": "stdout",
     "output_type": "stream",
     "text": [
      "Random best hyperparameter accuracy:  0.8058823529411765\n"
     ]
    }
   ],
   "source": [
    "best_random = rfn_random.best_estimator_\n",
    "best_random.fit(X_train,y_train)\n",
    "y_pred_rnd = best_random.predict(X_test)\n",
    "rnd_accuracy = accuracy_score(np.array(y_test), y_pred_rnd)\n",
    "\n",
    "print('Random best hyperparameter accuracy: ',rnd_accuracy)"
   ]
  },
  {
   "cell_type": "code",
   "execution_count": 35,
   "metadata": {},
   "outputs": [
    {
     "name": "stdout",
     "output_type": "stream",
     "text": [
      "Random best hyperparameter accuracy:  0.6647058823529411\n"
     ]
    }
   ],
   "source": [
    "from sklearn.naive_bayes import GaussianNB\n",
    "# Build a Gaussian Classifier\n",
    "model = GaussianNB()\n",
    "\n",
    "# Model training\n",
    "model.fit(X_train, y_train)\n",
    "\n",
    "# Predict Output\n",
    "y_pred = model.predict(X_test)\n",
    "rnd_accuracy = accuracy_score(np.array(y_test), y_pred)\n",
    "print('Random best hyperparameter accuracy: ',rnd_accuracy)"
   ]
  },
  {
   "cell_type": "code",
   "execution_count": 36,
   "metadata": {},
   "outputs": [
    {
     "name": "stdout",
     "output_type": "stream",
     "text": [
      "Random best hyperparameter accuracy:  0.7705882352941177\n"
     ]
    }
   ],
   "source": [
    "from sklearn.model_selection import GridSearchCV\n",
    "from sklearn.svm import SVC\n",
    "\n",
    "# Create a grid \n",
    "h_params= {'kernel': ['linear','rbf'],\n",
    "          'C':[0.1,1,10]}\n",
    "svc= SVC()\n",
    "cv=GridSearchCV(svc,h_params,cv=5,return_train_score=True)\n",
    "svc_grid=cv.fit(X_train, y_train)\n",
    "\n",
    "svc_best = svc_grid.best_estimator_.fit(X_train,y_train)\n",
    "y_test_pred=svc_best.predict(X_test)\n",
    "rnd_accuracy = accuracy_score(np.array(y_test), y_test_pred)\n",
    "print('Random best hyperparameter accuracy: ',rnd_accuracy)"
   ]
  },
  {
   "cell_type": "markdown",
   "metadata": {},
   "source": [
    "# then let's try using PCA first"
   ]
  },
  {
   "cell_type": "code",
   "execution_count": 44,
   "metadata": {},
   "outputs": [],
   "source": [
    "from sklearn.decomposition import PCA\n",
    "#show PCA with all components\n",
    "# Choose the number of components you want to retain (let's say n_components)\n",
    "n_components = 10  # Adjust this value as needed\n",
    "\n",
    "pca = PCA(n_components=n_components)\n",
    "pca.fit(X_train)\n",
    "\n",
    "# Transform the training data and test data using the learned PCA transformation\n",
    "X_train = pca.transform(X_train)\n",
    "X_test = pca.transform(X_test)\n"
   ]
  },
  {
   "cell_type": "code",
   "execution_count": 45,
   "metadata": {},
   "outputs": [
    {
     "name": "stdout",
     "output_type": "stream",
     "text": [
      "Random best hyperparameter accuracy:  0.7941176470588235\n"
     ]
    }
   ],
   "source": [
    "logistic_model = LogisticRegression()\n",
    "logistic_model.fit(X_train, y_train)\n",
    "y_test_pred=logistic_model.predict(X_test)\n",
    "rnd_accuracy = accuracy_score(np.array(y_test), y_test_pred)\n",
    "print('Random best hyperparameter accuracy: ',rnd_accuracy)"
   ]
  },
  {
   "cell_type": "code",
   "execution_count": 46,
   "metadata": {},
   "outputs": [
    {
     "name": "stdout",
     "output_type": "stream",
     "text": [
      "Fitting 3 folds for each of 10 candidates, totalling 30 fits\n"
     ]
    },
    {
     "name": "stderr",
     "output_type": "stream",
     "text": [
      "/Users/tomsmac/anaconda3/lib/python3.11/site-packages/sklearn/ensemble/_forest.py:424: FutureWarning: `max_features='auto'` has been deprecated in 1.1 and will be removed in 1.3. To keep the past behaviour, explicitly set `max_features='sqrt'` or remove this parameter as it is also the default value for RandomForestClassifiers and ExtraTreesClassifiers.\n",
      "  warn(\n",
      "/Users/tomsmac/anaconda3/lib/python3.11/site-packages/sklearn/ensemble/_forest.py:424: FutureWarning: `max_features='auto'` has been deprecated in 1.1 and will be removed in 1.3. To keep the past behaviour, explicitly set `max_features='sqrt'` or remove this parameter as it is also the default value for RandomForestClassifiers and ExtraTreesClassifiers.\n",
      "  warn(\n",
      "/Users/tomsmac/anaconda3/lib/python3.11/site-packages/sklearn/ensemble/_forest.py:424: FutureWarning: `max_features='auto'` has been deprecated in 1.1 and will be removed in 1.3. To keep the past behaviour, explicitly set `max_features='sqrt'` or remove this parameter as it is also the default value for RandomForestClassifiers and ExtraTreesClassifiers.\n",
      "  warn(\n",
      "/Users/tomsmac/anaconda3/lib/python3.11/site-packages/sklearn/ensemble/_forest.py:424: FutureWarning: `max_features='auto'` has been deprecated in 1.1 and will be removed in 1.3. To keep the past behaviour, explicitly set `max_features='sqrt'` or remove this parameter as it is also the default value for RandomForestClassifiers and ExtraTreesClassifiers.\n",
      "  warn(\n",
      "/Users/tomsmac/anaconda3/lib/python3.11/site-packages/sklearn/ensemble/_forest.py:424: FutureWarning: `max_features='auto'` has been deprecated in 1.1 and will be removed in 1.3. To keep the past behaviour, explicitly set `max_features='sqrt'` or remove this parameter as it is also the default value for RandomForestClassifiers and ExtraTreesClassifiers.\n",
      "  warn(\n"
     ]
    },
    {
     "name": "stdout",
     "output_type": "stream",
     "text": [
      "[CV] END max_depth=30, max_features=auto, min_samples_split=5, n_estimators=288; total time=   0.3s\n",
      "[CV] END max_depth=30, max_features=auto, min_samples_split=5, n_estimators=288; total time=   0.4s\n"
     ]
    },
    {
     "name": "stderr",
     "output_type": "stream",
     "text": [
      "/Users/tomsmac/anaconda3/lib/python3.11/site-packages/sklearn/ensemble/_forest.py:424: FutureWarning: `max_features='auto'` has been deprecated in 1.1 and will be removed in 1.3. To keep the past behaviour, explicitly set `max_features='sqrt'` or remove this parameter as it is also the default value for RandomForestClassifiers and ExtraTreesClassifiers.\n",
      "  warn(\n",
      "/Users/tomsmac/anaconda3/lib/python3.11/site-packages/sklearn/ensemble/_forest.py:424: FutureWarning: `max_features='auto'` has been deprecated in 1.1 and will be removed in 1.3. To keep the past behaviour, explicitly set `max_features='sqrt'` or remove this parameter as it is also the default value for RandomForestClassifiers and ExtraTreesClassifiers.\n",
      "  warn(\n"
     ]
    },
    {
     "name": "stdout",
     "output_type": "stream",
     "text": [
      "[CV] END max_depth=30, max_features=auto, min_samples_split=5, n_estimators=288; total time=   0.3s\n",
      "[CV] END max_depth=80, max_features=sqrt, min_samples_split=2, n_estimators=733; total time=   0.8s\n",
      "[CV] END max_depth=70, max_features=auto, min_samples_split=2, n_estimators=733; total time=   0.8s\n",
      "[CV] END max_depth=70, max_features=auto, min_samples_split=2, n_estimators=733; total time=   0.9s\n"
     ]
    },
    {
     "name": "stderr",
     "output_type": "stream",
     "text": [
      "/Users/tomsmac/anaconda3/lib/python3.11/site-packages/sklearn/ensemble/_forest.py:424: FutureWarning: `max_features='auto'` has been deprecated in 1.1 and will be removed in 1.3. To keep the past behaviour, explicitly set `max_features='sqrt'` or remove this parameter as it is also the default value for RandomForestClassifiers and ExtraTreesClassifiers.\n",
      "  warn(\n",
      "/Users/tomsmac/anaconda3/lib/python3.11/site-packages/sklearn/ensemble/_forest.py:424: FutureWarning: `max_features='auto'` has been deprecated in 1.1 and will be removed in 1.3. To keep the past behaviour, explicitly set `max_features='sqrt'` or remove this parameter as it is also the default value for RandomForestClassifiers and ExtraTreesClassifiers.\n",
      "  warn(\n"
     ]
    },
    {
     "name": "stdout",
     "output_type": "stream",
     "text": [
      "[CV] END max_depth=80, max_features=sqrt, min_samples_split=2, n_estimators=733; total time=   0.9s\n",
      "[CV] END max_depth=80, max_features=sqrt, min_samples_split=2, n_estimators=733; total time=   1.0s\n",
      "[CV] END max_depth=70, max_features=auto, min_samples_split=2, n_estimators=733; total time=   1.0s\n",
      "[CV] END max_depth=90, max_features=sqrt, min_samples_split=2, n_estimators=466; total time=   0.6s\n",
      "[CV] END max_depth=90, max_features=sqrt, min_samples_split=2, n_estimators=466; total time=   0.6s\n"
     ]
    },
    {
     "name": "stderr",
     "output_type": "stream",
     "text": [
      "/Users/tomsmac/anaconda3/lib/python3.11/site-packages/sklearn/ensemble/_forest.py:424: FutureWarning: `max_features='auto'` has been deprecated in 1.1 and will be removed in 1.3. To keep the past behaviour, explicitly set `max_features='sqrt'` or remove this parameter as it is also the default value for RandomForestClassifiers and ExtraTreesClassifiers.\n",
      "  warn(\n"
     ]
    },
    {
     "name": "stdout",
     "output_type": "stream",
     "text": [
      "[CV] END max_depth=80, max_features=auto, min_samples_split=10, n_estimators=911; total time=   1.1s\n",
      "[CV] END max_depth=60, max_features=sqrt, min_samples_split=2, n_estimators=822; total time=   0.9s\n",
      "[CV] END max_depth=80, max_features=auto, min_samples_split=10, n_estimators=911; total time=   1.4s\n",
      "[CV] END max_depth=60, max_features=sqrt, min_samples_split=2, n_estimators=822; total time=   1.1s\n",
      "[CV] END max_depth=60, max_features=sqrt, min_samples_split=2, n_estimators=822; total time=   1.1s\n"
     ]
    },
    {
     "name": "stderr",
     "output_type": "stream",
     "text": [
      "/Users/tomsmac/anaconda3/lib/python3.11/site-packages/sklearn/ensemble/_forest.py:424: FutureWarning: `max_features='auto'` has been deprecated in 1.1 and will be removed in 1.3. To keep the past behaviour, explicitly set `max_features='sqrt'` or remove this parameter as it is also the default value for RandomForestClassifiers and ExtraTreesClassifiers.\n",
      "  warn(\n",
      "/Users/tomsmac/anaconda3/lib/python3.11/site-packages/sklearn/ensemble/_forest.py:424: FutureWarning: `max_features='auto'` has been deprecated in 1.1 and will be removed in 1.3. To keep the past behaviour, explicitly set `max_features='sqrt'` or remove this parameter as it is also the default value for RandomForestClassifiers and ExtraTreesClassifiers.\n",
      "  warn(\n",
      "/Users/tomsmac/anaconda3/lib/python3.11/site-packages/sklearn/ensemble/_forest.py:424: FutureWarning: `max_features='auto'` has been deprecated in 1.1 and will be removed in 1.3. To keep the past behaviour, explicitly set `max_features='sqrt'` or remove this parameter as it is also the default value for RandomForestClassifiers and ExtraTreesClassifiers.\n",
      "  warn(\n",
      "/Users/tomsmac/anaconda3/lib/python3.11/site-packages/sklearn/ensemble/_forest.py:424: FutureWarning: `max_features='auto'` has been deprecated in 1.1 and will be removed in 1.3. To keep the past behaviour, explicitly set `max_features='sqrt'` or remove this parameter as it is also the default value for RandomForestClassifiers and ExtraTreesClassifiers.\n",
      "  warn(\n",
      "/Users/tomsmac/anaconda3/lib/python3.11/site-packages/sklearn/ensemble/_forest.py:424: FutureWarning: `max_features='auto'` has been deprecated in 1.1 and will be removed in 1.3. To keep the past behaviour, explicitly set `max_features='sqrt'` or remove this parameter as it is also the default value for RandomForestClassifiers and ExtraTreesClassifiers.\n",
      "  warn(\n"
     ]
    },
    {
     "name": "stdout",
     "output_type": "stream",
     "text": [
      "[CV] END max_depth=80, max_features=auto, min_samples_split=10, n_estimators=911; total time=   1.3s\n",
      "[CV] END max_depth=10, max_features=auto, min_samples_split=10, n_estimators=288; total time=   0.3s\n",
      "[CV] END max_depth=90, max_features=sqrt, min_samples_split=2, n_estimators=466; total time=   0.7s\n",
      "[CV] END max_depth=10, max_features=auto, min_samples_split=10, n_estimators=288; total time=   0.3s\n",
      "[CV] END max_depth=10, max_features=auto, min_samples_split=10, n_estimators=288; total time=   0.3s\n",
      "[CV] END max_depth=10, max_features=auto, min_samples_split=10, n_estimators=822; total time=   1.1s\n",
      "[CV] END max_depth=10, max_features=auto, min_samples_split=10, n_estimators=822; total time=   1.0s\n",
      "[CV] END max_depth=90, max_features=sqrt, min_samples_split=5, n_estimators=644; total time=   0.7s\n",
      "[CV] END max_depth=10, max_features=auto, min_samples_split=10, n_estimators=822; total time=   1.0s\n",
      "[CV] END max_depth=100, max_features=sqrt, min_samples_split=5, n_estimators=466; total time=   0.5s\n",
      "[CV] END max_depth=100, max_features=sqrt, min_samples_split=5, n_estimators=466; total time=   0.5s\n",
      "[CV] END max_depth=90, max_features=sqrt, min_samples_split=5, n_estimators=644; total time=   0.7s\n",
      "[CV] END max_depth=90, max_features=sqrt, min_samples_split=5, n_estimators=644; total time=   0.7s\n",
      "[CV] END max_depth=100, max_features=sqrt, min_samples_split=5, n_estimators=466; total time=   0.4s\n"
     ]
    },
    {
     "data": {
      "text/html": [
       "<style>#sk-container-id-3 {color: black;background-color: white;}#sk-container-id-3 pre{padding: 0;}#sk-container-id-3 div.sk-toggleable {background-color: white;}#sk-container-id-3 label.sk-toggleable__label {cursor: pointer;display: block;width: 100%;margin-bottom: 0;padding: 0.3em;box-sizing: border-box;text-align: center;}#sk-container-id-3 label.sk-toggleable__label-arrow:before {content: \"▸\";float: left;margin-right: 0.25em;color: #696969;}#sk-container-id-3 label.sk-toggleable__label-arrow:hover:before {color: black;}#sk-container-id-3 div.sk-estimator:hover label.sk-toggleable__label-arrow:before {color: black;}#sk-container-id-3 div.sk-toggleable__content {max-height: 0;max-width: 0;overflow: hidden;text-align: left;background-color: #f0f8ff;}#sk-container-id-3 div.sk-toggleable__content pre {margin: 0.2em;color: black;border-radius: 0.25em;background-color: #f0f8ff;}#sk-container-id-3 input.sk-toggleable__control:checked~div.sk-toggleable__content {max-height: 200px;max-width: 100%;overflow: auto;}#sk-container-id-3 input.sk-toggleable__control:checked~label.sk-toggleable__label-arrow:before {content: \"▾\";}#sk-container-id-3 div.sk-estimator input.sk-toggleable__control:checked~label.sk-toggleable__label {background-color: #d4ebff;}#sk-container-id-3 div.sk-label input.sk-toggleable__control:checked~label.sk-toggleable__label {background-color: #d4ebff;}#sk-container-id-3 input.sk-hidden--visually {border: 0;clip: rect(1px 1px 1px 1px);clip: rect(1px, 1px, 1px, 1px);height: 1px;margin: -1px;overflow: hidden;padding: 0;position: absolute;width: 1px;}#sk-container-id-3 div.sk-estimator {font-family: monospace;background-color: #f0f8ff;border: 1px dotted black;border-radius: 0.25em;box-sizing: border-box;margin-bottom: 0.5em;}#sk-container-id-3 div.sk-estimator:hover {background-color: #d4ebff;}#sk-container-id-3 div.sk-parallel-item::after {content: \"\";width: 100%;border-bottom: 1px solid gray;flex-grow: 1;}#sk-container-id-3 div.sk-label:hover label.sk-toggleable__label {background-color: #d4ebff;}#sk-container-id-3 div.sk-serial::before {content: \"\";position: absolute;border-left: 1px solid gray;box-sizing: border-box;top: 0;bottom: 0;left: 50%;z-index: 0;}#sk-container-id-3 div.sk-serial {display: flex;flex-direction: column;align-items: center;background-color: white;padding-right: 0.2em;padding-left: 0.2em;position: relative;}#sk-container-id-3 div.sk-item {position: relative;z-index: 1;}#sk-container-id-3 div.sk-parallel {display: flex;align-items: stretch;justify-content: center;background-color: white;position: relative;}#sk-container-id-3 div.sk-item::before, #sk-container-id-3 div.sk-parallel-item::before {content: \"\";position: absolute;border-left: 1px solid gray;box-sizing: border-box;top: 0;bottom: 0;left: 50%;z-index: -1;}#sk-container-id-3 div.sk-parallel-item {display: flex;flex-direction: column;z-index: 1;position: relative;background-color: white;}#sk-container-id-3 div.sk-parallel-item:first-child::after {align-self: flex-end;width: 50%;}#sk-container-id-3 div.sk-parallel-item:last-child::after {align-self: flex-start;width: 50%;}#sk-container-id-3 div.sk-parallel-item:only-child::after {width: 0;}#sk-container-id-3 div.sk-dashed-wrapped {border: 1px dashed gray;margin: 0 0.4em 0.5em 0.4em;box-sizing: border-box;padding-bottom: 0.4em;background-color: white;}#sk-container-id-3 div.sk-label label {font-family: monospace;font-weight: bold;display: inline-block;line-height: 1.2em;}#sk-container-id-3 div.sk-label-container {text-align: center;}#sk-container-id-3 div.sk-container {/* jupyter's `normalize.less` sets `[hidden] { display: none; }` but bootstrap.min.css set `[hidden] { display: none !important; }` so we also need the `!important` here to be able to override the default hidden behavior on the sphinx rendered scikit-learn.org. See: https://github.com/scikit-learn/scikit-learn/issues/21755 */display: inline-block !important;position: relative;}#sk-container-id-3 div.sk-text-repr-fallback {display: none;}</style><div id=\"sk-container-id-3\" class=\"sk-top-container\"><div class=\"sk-text-repr-fallback\"><pre>RandomizedSearchCV(cv=3, estimator=RandomForestClassifier(), n_jobs=-1,\n",
       "                   param_distributions={&#x27;max_depth&#x27;: [10, 20, 30, 40, 50, 60,\n",
       "                                                      70, 80, 90, 100],\n",
       "                                        &#x27;max_features&#x27;: [&#x27;auto&#x27;, &#x27;sqrt&#x27;],\n",
       "                                        &#x27;min_samples_split&#x27;: [2, 5, 10],\n",
       "                                        &#x27;n_estimators&#x27;: [200, 288, 377, 466,\n",
       "                                                         555, 644, 733, 822,\n",
       "                                                         911, 1000]},\n",
       "                   random_state=33, return_train_score=True, verbose=2)</pre><b>In a Jupyter environment, please rerun this cell to show the HTML representation or trust the notebook. <br />On GitHub, the HTML representation is unable to render, please try loading this page with nbviewer.org.</b></div><div class=\"sk-container\" hidden><div class=\"sk-item sk-dashed-wrapped\"><div class=\"sk-label-container\"><div class=\"sk-label sk-toggleable\"><input class=\"sk-toggleable__control sk-hidden--visually\" id=\"sk-estimator-id-7\" type=\"checkbox\" ><label for=\"sk-estimator-id-7\" class=\"sk-toggleable__label sk-toggleable__label-arrow\">RandomizedSearchCV</label><div class=\"sk-toggleable__content\"><pre>RandomizedSearchCV(cv=3, estimator=RandomForestClassifier(), n_jobs=-1,\n",
       "                   param_distributions={&#x27;max_depth&#x27;: [10, 20, 30, 40, 50, 60,\n",
       "                                                      70, 80, 90, 100],\n",
       "                                        &#x27;max_features&#x27;: [&#x27;auto&#x27;, &#x27;sqrt&#x27;],\n",
       "                                        &#x27;min_samples_split&#x27;: [2, 5, 10],\n",
       "                                        &#x27;n_estimators&#x27;: [200, 288, 377, 466,\n",
       "                                                         555, 644, 733, 822,\n",
       "                                                         911, 1000]},\n",
       "                   random_state=33, return_train_score=True, verbose=2)</pre></div></div></div><div class=\"sk-parallel\"><div class=\"sk-parallel-item\"><div class=\"sk-item\"><div class=\"sk-label-container\"><div class=\"sk-label sk-toggleable\"><input class=\"sk-toggleable__control sk-hidden--visually\" id=\"sk-estimator-id-8\" type=\"checkbox\" ><label for=\"sk-estimator-id-8\" class=\"sk-toggleable__label sk-toggleable__label-arrow\">estimator: RandomForestClassifier</label><div class=\"sk-toggleable__content\"><pre>RandomForestClassifier()</pre></div></div></div><div class=\"sk-serial\"><div class=\"sk-item\"><div class=\"sk-estimator sk-toggleable\"><input class=\"sk-toggleable__control sk-hidden--visually\" id=\"sk-estimator-id-9\" type=\"checkbox\" ><label for=\"sk-estimator-id-9\" class=\"sk-toggleable__label sk-toggleable__label-arrow\">RandomForestClassifier</label><div class=\"sk-toggleable__content\"><pre>RandomForestClassifier()</pre></div></div></div></div></div></div></div></div></div></div>"
      ],
      "text/plain": [
       "RandomizedSearchCV(cv=3, estimator=RandomForestClassifier(), n_jobs=-1,\n",
       "                   param_distributions={'max_depth': [10, 20, 30, 40, 50, 60,\n",
       "                                                      70, 80, 90, 100],\n",
       "                                        'max_features': ['auto', 'sqrt'],\n",
       "                                        'min_samples_split': [2, 5, 10],\n",
       "                                        'n_estimators': [200, 288, 377, 466,\n",
       "                                                         555, 644, 733, 822,\n",
       "                                                         911, 1000]},\n",
       "                   random_state=33, return_train_score=True, verbose=2)"
      ]
     },
     "execution_count": 46,
     "metadata": {},
     "output_type": "execute_result"
    }
   ],
   "source": [
    "# use random search to select best hyperparameters \n",
    "# cv (Cross Validation) specifies number of times (3 fold in this case) that\n",
    "# each hyper parameter combination will be evaluated)\n",
    "\n",
    "rfn=RandomForestClassifier()\n",
    "\n",
    "rfn_random = RandomizedSearchCV(estimator=rfn,param_distributions =rnd_grid,\n",
    "                               n_iter = 10,cv=3,verbose=2,random_state=33,n_jobs=-1,return_train_score=True)\n",
    "\n",
    "rfn_random.fit(X_train, y_train)"
   ]
  },
  {
   "cell_type": "code",
   "execution_count": 47,
   "metadata": {},
   "outputs": [
    {
     "name": "stdout",
     "output_type": "stream",
     "text": [
      "Random best hyperparameter accuracy:  0.8\n"
     ]
    }
   ],
   "source": [
    "best_random = rfn_random.best_estimator_\n",
    "best_random.fit(X_train,y_train)\n",
    "y_pred_rnd = best_random.predict(X_test)\n",
    "rnd_accuracy = accuracy_score(np.array(y_test), y_pred_rnd)\n",
    "\n",
    "print('Random best hyperparameter accuracy: ',rnd_accuracy)"
   ]
  },
  {
   "cell_type": "code",
   "execution_count": 48,
   "metadata": {},
   "outputs": [
    {
     "name": "stdout",
     "output_type": "stream",
     "text": [
      "Random best hyperparameter accuracy:  0.7\n"
     ]
    }
   ],
   "source": [
    "from sklearn.naive_bayes import GaussianNB\n",
    "# Build a Gaussian Classifier\n",
    "model = GaussianNB()\n",
    "\n",
    "# Model training\n",
    "model.fit(X_train, y_train)\n",
    "\n",
    "# Predict Output\n",
    "y_pred = model.predict(X_test)\n",
    "rnd_accuracy = accuracy_score(np.array(y_test), y_pred)\n",
    "print('Random best hyperparameter accuracy: ',rnd_accuracy)"
   ]
  },
  {
   "cell_type": "code",
   "execution_count": 49,
   "metadata": {},
   "outputs": [
    {
     "name": "stdout",
     "output_type": "stream",
     "text": [
      "Random best hyperparameter accuracy:  0.7705882352941177\n"
     ]
    }
   ],
   "source": [
    "from sklearn.model_selection import GridSearchCV\n",
    "from sklearn.svm import SVC\n",
    "\n",
    "# Create a grid \n",
    "h_params= {'kernel': ['linear','rbf'],\n",
    "          'C':[0.1,1,10]}\n",
    "svc= SVC()\n",
    "cv=GridSearchCV(svc,h_params,cv=5,return_train_score=True)\n",
    "svc_grid=cv.fit(X_train, y_train)\n",
    "\n",
    "svc_best = svc_grid.best_estimator_.fit(X_train,y_train)\n",
    "y_test_pred=svc_best.predict(X_test)\n",
    "rnd_accuracy = accuracy_score(np.array(y_test), y_test_pred)\n",
    "print('Random best hyperparameter accuracy: ',rnd_accuracy)"
   ]
  }
 ],
 "metadata": {
  "kernelspec": {
   "display_name": "base",
   "language": "python",
   "name": "python3"
  },
  "language_info": {
   "codemirror_mode": {
    "name": "ipython",
    "version": 3
   },
   "file_extension": ".py",
   "mimetype": "text/x-python",
   "name": "python",
   "nbconvert_exporter": "python",
   "pygments_lexer": "ipython3",
   "version": "3.11.3"
  },
  "orig_nbformat": 4
 },
 "nbformat": 4,
 "nbformat_minor": 2
}
